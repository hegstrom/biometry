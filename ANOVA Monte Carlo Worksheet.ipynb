{
 "cells": [
  {
   "cell_type": "code",
   "execution_count": 1,
   "metadata": {
    "collapsed": false
   },
   "outputs": [
    {
     "name": "stderr",
     "output_type": "stream",
     "text": [
      "//anaconda/lib/python2.7/site-packages/matplotlib/font_manager.py:273: UserWarning: Matplotlib is building the font cache using fc-list. This may take a moment.\n",
      "  warnings.warn('Matplotlib is building the font cache using fc-list. This may take a moment.')\n"
     ]
    }
   ],
   "source": [
    "from __future__ import division\n",
    "\n",
    "import pandas as pd\n",
    "import numpy as np\n",
    "import scipy.stats as sps\n",
    "import itertools\n",
    "%matplotlib inline\n",
    "import matplotlib.pyplot as plt\n",
    "import matplotlib\n",
    "matplotlib.style.use('ggplot')\n",
    "\n",
    "ALPHA = 0.05"
   ]
  },
  {
   "cell_type": "code",
   "execution_count": 2,
   "metadata": {
    "collapsed": false
   },
   "outputs": [
    {
     "name": "stdout",
     "output_type": "stream",
     "text": [
      "Calculated F Value: 0.294004458787\n",
      "Calcuated p-value: 0.746010677722\n",
      "Would not be considered significant at alpha of 0.05\n",
      "fifty values:\n",
      "\n",
      "          0         1         2         3         4\n",
      "0  0.294004  1.087195  0.198263  1.811478  1.687312\n",
      "1  2.043620  0.593073  1.400124  0.374604  0.824570\n",
      "2  0.678803  0.096109  2.442021  0.503096  1.519952\n",
      "3  0.798646  0.105131  0.142147  1.646641  0.413259\n",
      "4  0.399117  0.165860  2.276505  0.894110  0.546294\n",
      "5  0.167429  0.242393  0.723026  4.709239  0.646102\n",
      "6  1.083447  1.198690  0.423633  0.488571  1.212702\n",
      "7  0.970559  0.333700  0.594718  0.068306  0.760654\n",
      "8  2.171304  0.610407  0.421155  0.413000  1.442897\n",
      "9  0.065046  0.923476  0.966725  1.461025  0.479746\n",
      "------------------------------------------------------\n",
      "Sampling distribution of 15000 F values from monte carlo simulation:\n",
      "------------------------------------------------------\n",
      "\n",
      "0.05 of the distribution should be downslope from the critical value\n"
     ]
    },
    {
     "data": {
      "image/png": "[encoded data removed]",
      "text/plain": [
       "<matplotlib.figure.Figure at 0x106387890>"
      ]
     },
     "metadata": {},
     "output_type": "display_data"
    }
   ],
   "source": [
    "# Rather than 50 trials, I set it to 15k..\n",
    "NUM_TRIALS = 15000\n",
    "\n",
    "## This builds the f test simulation.\n",
    "f_values = []\n",
    "p_values = []\n",
    "for i in xrange(0, NUM_TRIALS + 1):\n",
    "    \n",
    "    # create a dataframe of 30 random normal variates with mean of 20, std dev of 2 for each group\n",
    "    df = pd.DataFrame({\n",
    "            'group_1': sps.norm.rvs(loc=20, scale=2, size=30, random_state=None),\n",
    "            'group_2': sps.norm.rvs(loc=20, scale=2, size=30, random_state=None),\n",
    "            'group_3': sps.norm.rvs(loc=20, scale=2, size=30, random_state=None),\n",
    "        })\n",
    "    # performs one way f test.\n",
    "    f, p = sps.f_oneway(df['group_1'].values, df['group_2'].values, df['group_3'].values)\n",
    "    \n",
    "    # saving the F and P values into the lists.\n",
    "    f_values.append(f)\n",
    "    p_values.append(p)\n",
    "\n",
    "# results of all the simulations.\n",
    "result_df = pd.DataFrame({'f_values': f_values, 'p_values': p_values})\n",
    "\n",
    "# Determining degress of freedom\n",
    "df_num = len(df.columns) - 1\n",
    "# In python, one can add up boolean values. True = 1. So, this is the total number of non-null values.\n",
    "df_den = df.notnull().sum().sum() - df_num\n",
    "\n",
    "# calcuating the f crit value using scipy.stats\n",
    "f_crit = sps.f.isf(0.05, df_num, df_den)\n",
    "\n",
    "first_f_value = result_df.iloc[0]['f_values']\n",
    "first_f_p_val = result_df.iloc[0]['p_values']\n",
    "\n",
    "print \"Calculated F Value: {}\".format(first_f_value)\n",
    "print \"Calcuated p-value: {}\".format(first_f_p_val)\n",
    "if first_f_p_val <= 0.05:\n",
    "    print \"Would be considered significant at alpha of 0.05\"\n",
    "else:\n",
    "    print \"Would not be considered significant at alpha of 0.05\"\n",
    "    \n",
    "print \"fifty values:\\n\"\n",
    "print pd.DataFrame(result_df.head(50)['f_values'].values.reshape(10, 5))\n",
    "print '------------------------------------------------------'\n",
    "print 'Sampling distribution of {} F values from monte carlo simulation:'.format(NUM_TRIALS)\n",
    "result_df['f_values'].plot.hist(bins=25)\n",
    "plt.xlim(0, 7)\n",
    "plt.axvline(f_crit)\n",
    "plt.text(f_crit * 1.05, 400, \"F crit\", {'color': 'b'})\n",
    "\n",
    "print '------------------------------------------------------'\n",
    "print\n",
    "print '0.05 of the distribution should be downslope from the critical value'"
   ]
  },
  {
   "cell_type": "code",
   "execution_count": 3,
   "metadata": {
    "collapsed": false
   },
   "outputs": [
    {
     "name": "stdout",
     "output_type": "stream",
     "text": [
      "------------------------------------------------------\n",
      "Sampling distribution of 15000 F values from monte carlo simulation (NULL FALSE!):\n"
     ]
    },
    {
     "data": {
      "text/plain": [
       "<matplotlib.text.Text at 0x1163ed250>"
      ]
     },
     "execution_count": 3,
     "metadata": {},
     "output_type": "execute_result"
    },
    {
     "data": {
      "image/png": "[encoded data removed]",
      "text/plain": [
       "<matplotlib.figure.Figure at 0x1163ed410>"
      ]
     },
     "metadata": {},
     "output_type": "display_data"
    }
   ],
   "source": [
    "print '------------------------------------------------------'\n",
    "print 'Sampling distribution of {} F values from monte carlo simulation (NULL FALSE!):'.format(NUM_TRIALS)\n",
    "\n",
    "f_values = []\n",
    "p_values = []\n",
    "for i in xrange(0, NUM_TRIALS + 1):\n",
    "    df = pd.DataFrame({\n",
    "            'group_1': sps.norm.rvs(loc=20, scale=2, size=30, random_state=None),\n",
    "            'group_2': sps.norm.rvs(loc=23, scale=2, size=30, random_state=None),\n",
    "            'group_3': sps.norm.rvs(loc=26, scale=2, size=30, random_state=None),\n",
    "        })\n",
    "    # performs one way f test.\n",
    "    f, p = sps.f_oneway(df['group_1'].values, df['group_2'].values, df['group_3'].values)\n",
    "    f_values.append(f)\n",
    "    p_values.append(p)\n",
    "\n",
    "# results of all the simulations.\n",
    "result_df = pd.DataFrame({'f_values': f_values, 'p_values': p_values})\n",
    "result_df['f_values'].plot.hist(bins=25)\n",
    "plt.axvline(f_crit)\n",
    "plt.text(f_crit * 2, 100, \"F crit\", {'color': 'b'})"
   ]
  },
  {
   "cell_type": "code",
   "execution_count": null,
   "metadata": {
    "collapsed": true
   },
   "outputs": [],
   "source": []
  }
 ],
 "metadata": {
  "kernelspec": {
   "display_name": "Python 2",
   "language": "python",
   "name": "python2"
  },
  "language_info": {
   "codemirror_mode": {
    "name": "ipython",
    "version": 2
   },
   "file_extension": ".py",
   "mimetype": "text/x-python",
   "name": "python",
   "nbconvert_exporter": "python",
   "pygments_lexer": "ipython2",
   "version": "2.7.11"
  }
 },
 "nbformat": 4,
 "nbformat_minor": 0
}
