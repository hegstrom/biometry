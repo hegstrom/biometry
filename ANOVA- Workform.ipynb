{
 "cells": [
  {
   "cell_type": "code",
   "execution_count": 2,
   "metadata": {
    "collapsed": false
   },
   "outputs": [
    {
     "name": "stderr",
     "output_type": "stream",
     "text": [
      "//anaconda/lib/python2.7/site-packages/matplotlib/font_manager.py:273: UserWarning: Matplotlib is building the font cache using fc-list. This may take a moment.\n",
      "  warnings.warn('Matplotlib is building the font cache using fc-list. This may take a moment.')\n"
     ]
    },
    {
     "name": "stdout",
     "output_type": "stream",
     "text": [
      "PANEL A\n",
      "                   group_1   group_2   group_3    group_4  sum_across_row\n",
      "count                5.000      5.00      4.00      5.000       19.000000\n",
      "sums               303.100    346.50    401.40    431.200     1482.200000\n",
      "means               60.620     69.30    100.35     86.240       78.010526\n",
      "sum_x_squared    18411.490  24046.71  40303.46  37220.240   119981.900000\n",
      "correction_term  18373.922  24012.45  40280.49  37186.688   119853.550000\n",
      "-----------------------------------------------------\n",
      "\n",
      "PANEL B\n",
      "CT: 115627.2\tSSb: 4226.35\t\n",
      "SSt: 4354.7\tSSw: 128.35\t\n",
      "-----------------------------------------------------\n",
      "\n",
      "PANEL C\n",
      "4354.7 = 128.35 + 4226.35\n",
      "115627.2 <= 119853.55 <= 119981.9\n",
      "4226.35 <= 4354.7\n",
      "-----------------------------------------------------\n",
      "\n",
      "PANEL D\n",
      "ANOVA TABLE OUTPUT\n",
      "SOURCE\tdf\tSS\t\tMS\t\tFcalc\t\tFcrit\t\tp-value\n",
      "BETWEEN\t3\t4226.35\t\t1408.78\t\t164.58\t\t3.29\t\t1.06419744941e-11\n",
      "WITHIN\t15.0\t128.35\t\t8.56\n",
      "TOTAL\t18.0\t4354.7\n",
      "-----------------------------------------------------\n"
     ]
    }
   ],
   "source": [
    "from __future__ import division\n",
    "\n",
    "import pandas as pd\n",
    "import itertools\n",
    "import numpy as np\n",
    "import scipy.stats as sps\n",
    "import itertools\n",
    "%matplotlib inline\n",
    "import matplotlib.pyplot as plt\n",
    "import matplotlib\n",
    "matplotlib.style.use('ggplot')\n",
    "\n",
    "\n",
    "ALPHA = 0.05\n",
    "\n",
    "# Creating the data to be used for the experiement\n",
    "group_1 = np.array([60.8, 57, 65, 58.6, 61.7])\n",
    "group_2 = np.array([68.7, 67.7, 74, 66.3, 69.8])\n",
    "group_3 = np.array([102.6, 102.1, 100.2, 96.5, np.nan])\n",
    "group_4 = np.array([87.9, 84.2, 83.1, 85.7, 90.3])\n",
    "df = pd.DataFrame({\n",
    "        'group_1': group_1,\n",
    "        'group_2': group_2,\n",
    "        'group_3': group_3,\n",
    "        'group_4': group_4\n",
    "    })\n",
    "\n",
    "#result_df = dataframe for the top table of the worksheet.\n",
    "result_df = pd.DataFrame()\n",
    "\n",
    "# Various things we need to calculate\n",
    "result_df['count'] = df.count(axis=0)\n",
    "result_df['sums'] = df.sum(axis=0)\n",
    "result_df['means'] = df.mean(axis=0)\n",
    "result_df['sum_x_squared'] = (df ** 2).sum(axis=0)\n",
    "result_df['correction_term'] = (result_df['sums'] ** 2) / result_df['count']\n",
    "\n",
    "# it's easier to add columns than rows, but now that it's all created, transpose the dataframe.\n",
    "result_df = result_df.T\n",
    "# creates the totals column.\n",
    "result_df['sum_across_row'] = result_df.sum(axis=1)\n",
    "# the means cell is not a sum, requires special handing.\n",
    "result_df.loc['means', 'sum_across_row'] = result_df.loc['sums', 'sum_across_row'] / result_df.loc['count', 'sum_across_row']\n",
    "\n",
    "print \"PANEL A\"\n",
    "print result_df\n",
    "print '-----------------------------------------------------'\n",
    "print\n",
    "\n",
    "# these create the various variables as defined on the worksheet\n",
    "q0 = result_df.loc['count', 'sum_across_row']\n",
    "q1 = result_df.loc['sums', 'sum_across_row']\n",
    "avg_t = result_df.loc['means', 'sum_across_row']\n",
    "q2 = result_df.loc['sum_x_squared', 'sum_across_row']\n",
    "q3 = result_df.loc['correction_term', 'sum_across_row']\n",
    "\n",
    "# These values are rounded to improving printing. May have a slight affect on downstream calculations, though...\n",
    "q4 = np.round(q1 **2 / q0, 2)\n",
    "q5 = np.round(q2 - q4, 2)\n",
    "q6 = np.round(q3 - q4, 2)\n",
    "q7 = np.round(q2 - q3, 2)\n",
    "\n",
    "print \"PANEL B\"\n",
    "print \"CT: {}\\tSSb: {}\\t\".format(q4, q6)\n",
    "print \"SSt: {}\\tSSw: {}\\t\".format(q5, q7)\n",
    "print '-----------------------------------------------------'\n",
    "print\n",
    "\n",
    "print \"PANEL C\"\n",
    "# does the tests indicated in the third section.\n",
    "if np.isclose(q5, q7 + q6):\n",
    "    print \"{} = {} + {}\".format(q5, q7, q6)\n",
    "else:\n",
    "    print \"q5 != q7 + q6\"\n",
    "if q4 <= q3 <= q2:\n",
    "    print \"{} <= {} <= {}\".format(q4, q3, q2)\n",
    "else:\n",
    "    print \"q4 ! <= q3 !<= q2\"\n",
    "if q6 <= q5:\n",
    "    print \"{} <= {}\".format(q6, q5)\n",
    "else:\n",
    "    print \"q6 ! <= q5\"\n",
    "    \n",
    "print '-----------------------------------------------------'\n",
    "print\n",
    "\n",
    "# creating the reaminder of the variables in the output table\n",
    "rows, groups = df.shape\n",
    "degress_of_freedom_between = groups - 1\n",
    "degrees_of_freedom_within = q0 - groups\n",
    "degrees_of_freedom_total = q0 - 1\n",
    "q8 = np.round(q6 / degress_of_freedom_between, 2)\n",
    "q9 = np.round(q7 / degrees_of_freedom_within, 2)\n",
    "\n",
    "# finally does the f test.\n",
    "f_calc = np.round(q8 / q9, 2)\n",
    "\n",
    "# I'm using the scipy.stats.f for calcuating the F crit.\n",
    "f_crit = np.round(sps.f.isf(ALPHA, degress_of_freedom_between, degrees_of_freedom_within, loc=0, scale=1), 2)\n",
    "# same here- using scipy.stats to calculate the p value. Due to some rounding, it may be slightly different\n",
    "# from the excel calcuated p value.\n",
    "p = sps.f.sf(f_calc, degress_of_freedom_between, degrees_of_freedom_within, loc=0, scale=1)\n",
    "\n",
    "# This prints out the final panel. \"\\t\" = tab.\n",
    "print \"PANEL D\"\n",
    "print \"ANOVA TABLE OUTPUT\"\n",
    "print \"SOURCE\\tdf\\tSS\\t\\tMS\\t\\tFcalc\\t\\tFcrit\\t\\tp-value\"\n",
    "print \"BETWEEN\\t{}\\t{}\\t\\t{}\\t\\t{}\\t\\t{}\\t\\t{}\".format(degress_of_freedom_between, q6, q8, f_calc, f_crit, p)\n",
    "print \"WITHIN\\t{}\\t{}\\t\\t{}\".format(degrees_of_freedom_within, q7, q9)\n",
    "print \"TOTAL\\t{}\\t{}\".format(degrees_of_freedom_total, q5)\n",
    "print '-----------------------------------------------------'"
   ]
  },
  {
   "cell_type": "code",
   "execution_count": 3,
   "metadata": {
    "collapsed": false
   },
   "outputs": [
    {
     "name": "stdout",
     "output_type": "stream",
     "text": [
      "Comparing: group_1 to group_2\n",
      "-4.58023579012 0.00180145247564\n",
      "\n",
      "Comparing: group_1 to group_3\n",
      "-20.139435517 1.86346155016e-07\n",
      "\n",
      "Comparing: group_1 to group_4\n",
      "-13.5862076891 8.28084563001e-07\n",
      "\n",
      "Comparing: group_2 to group_3\n",
      "-16.1879738692 8.35217732889e-07\n",
      "\n",
      "Comparing: group_2 to group_4\n",
      "-9.19973096583 1.5765194269e-05\n",
      "\n",
      "Comparing: group_3 to group_4\n",
      "7.40220343263 0.000149143118802\n",
      "\n"
     ]
    }
   ],
   "source": [
    "# Extra stuff for the bottom table. Performing multi-comparison pairwaise t tests.\n",
    "for i, j in itertools.combinations(df.columns.values, 2):\n",
    "    print \"Comparing: {} to {}\".format(i, j)\n",
    "    t, p = sps.ttest_ind(df[df[i].notnull()][i].values, df[df[j].notnull()][j].values)\n",
    "    print t, p\n",
    "    print"
   ]
  },
  {
   "cell_type": "code",
   "execution_count": null,
   "metadata": {
    "collapsed": false
   },
   "outputs": [],
   "source": []
  },
  {
   "cell_type": "code",
   "execution_count": null,
   "metadata": {
    "collapsed": false
   },
   "outputs": [],
   "source": []
  },
  {
   "cell_type": "code",
   "execution_count": null,
   "metadata": {
    "collapsed": false
   },
   "outputs": [],
   "source": []
  },
  {
   "cell_type": "code",
   "execution_count": null,
   "metadata": {
    "collapsed": true
   },
   "outputs": [],
   "source": []
  }
 ],
 "metadata": {
  "kernelspec": {
   "display_name": "Python 2",
   "language": "python",
   "name": "python2"
  },
  "language_info": {
   "codemirror_mode": {
    "name": "ipython",
    "version": 2
   },
   "file_extension": ".py",
   "mimetype": "text/x-python",
   "name": "python",
   "nbconvert_exporter": "python",
   "pygments_lexer": "ipython2",
   "version": "2.7.11"
  }
 },
 "nbformat": 4,
 "nbformat_minor": 0
}
